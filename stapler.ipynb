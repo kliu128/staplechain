{
 "cells": [
  {
   "cell_type": "code",
   "execution_count": 1,
   "metadata": {},
   "outputs": [],
   "source": [
    "%load_ext autoreload\n",
    "%autoreload 2"
   ]
  },
  {
   "attachments": {},
   "cell_type": "markdown",
   "metadata": {},
   "source": [
    "# Creating staple chains\n"
   ]
  },
  {
   "cell_type": "code",
   "execution_count": 41,
   "metadata": {},
   "outputs": [
    {
     "name": "stdout",
     "output_type": "stream",
     "text": [
      "chic﻿⁠‍‌﻿﻿‍‌‍‌‌‌‌‌⁠⁠‌﻿⁠‌⁠⁠‌‌‌﻿⁠‍﻿‍﻿⁠‌‍⁠‍﻿⁠⁠‍﻿﻿‌﻿‌‍‍⁠⁠⁠‌‌⁠‍‌﻿‌﻿﻿‍﻿‍⁠﻿﻿‌⁠⁠‌‌⁠‌⁠⁠‌⁠‍‍﻿⁠‌⁠‌﻿⁠‍‍‍﻿‍‍﻿⁠﻿‍﻿‍‍‌﻿‍⁠﻿‌‍‍‍⁠﻿﻿‌⁠﻿﻿⁠‌‍‌⁠⁠﻿⁠‍⁠‍‌﻿‌﻿‌﻿⁠‍‍⁠⁠‌‍⁠‌﻿⁠﻿‌‍‌‍⁠‍﻿﻿﻿﻿‍⁠‌﻿‌‌﻿⁠⁠‍‌‌⁠‍⁠‌‌‍‍‌⁠‍⁠‌‌﻿﻿⁠‌‍﻿‍﻿‍﻿‌‍⁠‌﻿⁠‌⁠⁠﻿‌‍﻿﻿‍‍‌‌‌⁠‌‌‌‍‌﻿⁠‌﻿﻿‌⁠‌⁠﻿‌‌‌⁠‌‍﻿﻿‍⁠﻿‌⁠⁠⁠⁠﻿⁠‌‍⁠⁠﻿⁠﻿⁠‌‌‌﻿⁠‌⁠⁠‍‌⁠‍‌‍‍‌‌‌‌‌‍﻿‌‍‌‌⁠‍‌‌⁠⁠﻿‌‍﻿﻿⁠‍‌⁠﻿﻿⁠⁠﻿‌‌⁠‌﻿‍﻿﻿⁠‌‍⁠⁠‌⁠‍﻿‌‍‍⁠‌⁠﻿⁠⁠‌‍﻿‍⁠‌‌‍‌﻿‌‌‌‌‌‍‌⁠⁠‌‍‌﻿﻿‍‍‌‍‌‍﻿‌﻿‌‍﻿‌‍⁠﻿‍‍﻿‌﻿‌‍‍⁠‌⁠﻿‌⁠⁠﻿‌‌﻿‌﻿﻿⁠⁠‌‍‌⁠‌﻿⁠‍‍‍﻿‌‍‍⁠‌⁠⁠⁠‌‌‍⁠‍‍‌﻿⁠‌⁠‍﻿‌﻿‌‍﻿⁠‌﻿﻿‍⁠‌﻿﻿⁠﻿﻿⁠‌‍‍‌﻿‍﻿‌⁠‌⁠⁠‍⁠‍‍﻿‌‍‍﻿⁠﻿‍‌‍⁠﻿‍‍‌﻿‍‌﻿‌⁠﻿‌‍⁠﻿‌⁠‍⁠‍‌﻿‌﻿﻿‌‍‌﻿⁠‌‌‍‍‍⁠‍⁠‌‌‌‌﻿‌﻿⁠﻿‌‌‌⁠⁠⁠﻿⁠﻿‌﻿‌⁠‍﻿﻿‌﻿﻿‍‍‌﻿﻿‍﻿﻿﻿‍﻿﻿⁠⁠﻿⁠‍⁠‌‌⁠﻿﻿‌﻿⁠‌⁠‌﻿‍‍﻿⁠﻿⁠⁠⁠﻿﻿‍⁠‍﻿‍‌‍‌‍‌﻿﻿﻿‍⁠⁠‍﻿﻿⁠‍‍‍‌⁠‍﻿⁠⁠‍﻿‍‌‍‌‌⁠‍⁠‌‌‌⁠⁠⁠‌‍⁠﻿‌⁠﻿‍﻿﻿‌‌‍‌⁠⁠‍﻿﻿⁠‌‌﻿‍⁠⁠‍‍‌﻿‌﻿﻿‍‍‍‍﻿⁠‍⁠⁠⁠⁠﻿﻿⁠‌⁠‌‍‌‌﻿⁠‍‍‌﻿‌⁠﻿⁠‌﻿‌‌‌⁠‌﻿﻿‌‌‍﻿⁠‍‍⁠‌﻿‌‍‌‍⁠‍﻿‌⁠﻿‌﻿‌⁠﻿‌‌﻿‌﻿‌‌‌‌‌﻿⁠⁠‍﻿‌‌‍‌‌‌⁠⁠‌‌⁠‌‍﻿﻿⁠⁠﻿﻿⁠‍﻿‍﻿‌‌‍﻿⁠‍⁠⁠﻿‌‌‍﻿﻿‍﻿﻿⁠⁠⁠⁠‌⁠⁠‍‌﻿‍‍⁠﻿‍‍﻿﻿‍﻿﻿‌﻿﻿‍‌⁠‍‍⁠﻿﻿﻿﻿‍﻿‌‌ken!\n",
      "[StapleChain(version='1', hash='61b18cb77f63d8c7df20e7e9e2d928ec4744993a61cb04dfcf66bf68d8bd9e9b', chain=[Staple(id='stpl-CWJLMVJWSZUVUDDKZ6VTF3ATK4', date=datetime.datetime(2023, 4, 30, 16, 1, 49, 329138), provider_id='openai', role='generation', deps=[], params=None, output=None, sig=None)])]\n"
     ]
    }
   ],
   "source": [
    "from staplechain.staple import Staple\n",
    "from staplechain.steganography import add_staple, detect_staple_chains\n",
    "\n",
    "text = \"\"\"\n",
    "chicken!\n",
    "\"\"\".strip()\n",
    "\n",
    "text = add_staple(Staple(provider_id=\"openai\", role=\"generation\"), text)\n",
    "print(text)\n",
    "print(list(detect_staple_chains(text)))"
   ]
  },
  {
   "cell_type": "code",
   "execution_count": 39,
   "metadata": {},
   "outputs": [
    {
     "name": "stdout",
     "output_type": "stream",
     "text": [
      "\n",
      "chic﻿⁠‍‌﻿﻿‍‌‍‌‌‌‌‌⁠‍‌﻿⁠‌⁠﻿‌‌‌﻿⁠﻿⁠‍⁠‍﻿﻿‌‍﻿﻿⁠⁠﻿‌﻿‌﻿⁠‌⁠‍‌‌﻿‌‌⁠⁠‌⁠⁠﻿﻿⁠﻿‍‍﻿‍‍﻿⁠‌⁠‌﻿⁠‍‍‍﻿‍‍﻿⁠﻿‍﻿﻿‌⁠⁠‍﻿⁠‍⁠‍⁠⁠⁠﻿﻿﻿‍⁠﻿‍⁠‌﻿‍⁠⁠‌⁠‍‍‌﻿‍⁠‌⁠‌⁠‌‍⁠‌‌‍﻿﻿‌⁠‍⁠‍⁠⁠‍‍‍⁠‌‌⁠‍‍⁠‌‌‍﻿‍⁠‌‌‌‌‍‌﻿⁠‍⁠‍﻿‍⁠‌‌﻿‍‌‌⁠‍‌⁠‍﻿‍‍⁠⁠‍‌‍‍‍﻿⁠‌‍⁠⁠‍﻿⁠‌‌‌﻿⁠‌‌‌⁠⁠‌⁠⁠‌‌‌‌‌⁠⁠﻿‍﻿﻿﻿﻿‍﻿﻿‌‌⁠‍﻿﻿⁠⁠﻿‍﻿‌‌﻿‌﻿‍‌⁠⁠‌﻿﻿‌⁠﻿⁠‍‌‍﻿⁠⁠‌⁠‍﻿⁠﻿‌‌‍‌﻿‍﻿‌‌﻿﻿‌‍﻿‍‌‌‍﻿‍‌⁠⁠‌‍‍‌‍⁠﻿‍﻿⁠⁠⁠‌⁠‌﻿⁠‍‌⁠⁠﻿﻿‌‌‌‌‍⁠﻿‍‌‌‍⁠‍‍⁠⁠‍‌⁠‌﻿‍⁠⁠‍⁠⁠⁠‌‍‌⁠‌⁠‌‌⁠⁠‍‌⁠⁠‍‍⁠⁠⁠﻿﻿‍‌⁠‍‍⁠‍‍‌‌‌‍⁠‍‌﻿⁠‍﻿﻿⁠‍‍‌‌⁠﻿﻿‍‍‌‍‌⁠⁠‍‍‍‌⁠‍‌‌⁠‍‌⁠‌‍‍‍⁠⁠‌‍⁠﻿⁠‍⁠‌⁠﻿‍⁠⁠⁠‌‍⁠⁠‍⁠⁠⁠‌⁠⁠‌‍‍‌⁠‌‌‌⁠‌‍‌﻿‌‌⁠‍⁠‌‌﻿‍﻿⁠‌﻿⁠﻿﻿﻿‍⁠﻿⁠﻿⁠﻿⁠‌‍‍‌⁠﻿‌﻿﻿﻿⁠﻿﻿﻿﻿﻿⁠﻿﻿⁠﻿‍‍﻿‍﻿﻿﻿⁠﻿⁠﻿‌‍⁠‍‌‌‍﻿⁠﻿﻿‌⁠‍﻿⁠⁠⁠﻿‍‌‍﻿⁠‍﻿‍‍﻿﻿‌⁠⁠⁠‍﻿﻿‌﻿⁠‍‍﻿‌﻿‍﻿‍⁠‍﻿﻿﻿‌⁠﻿‍⁠‌﻿⁠﻿⁠⁠﻿⁠﻿⁠‍﻿‍‌‌﻿‌﻿﻿‍‍⁠⁠﻿‌‍‍‌‍⁠⁠﻿﻿﻿‍﻿‌﻿‍‌⁠‌‌‌⁠‌⁠﻿⁠⁠﻿‌‌⁠‌‍‍﻿‍⁠‍‌‌‍⁠﻿‌﻿﻿‍‌‍‌‌‌⁠‌⁠‌‍‍‍⁠⁠‍‌‌﻿‍‌⁠‌‍⁠﻿﻿⁠⁠⁠﻿‍⁠﻿‌⁠‌‌‌‍‌‍﻿‌⁠‍‌‌⁠‍‌﻿⁠﻿‌‍⁠‍‍⁠⁠﻿‍‍⁠⁠﻿‌‌‌⁠﻿⁠‍‌‌‍‍⁠⁠‍‍﻿‍﻿‌⁠‌‍‌‌‍‍‍⁠‌﻿⁠﻿‍﻿﻿﻿﻿⁠⁠﻿⁠‍‍‍﻿‌⁠⁠⁠﻿‌‍﻿‍﻿‍﻿﻿﻿﻿﻿⁠⁠⁠⁠‌⁠‌⁠‌﻿‍‍‍‍‌⁠⁠⁠﻿﻿‍﻿‍‍⁠﻿‌‍‍‌‍⁠‍‍‍﻿⁠⁠⁠‌‌‌‌ken!\n",
      "\n"
     ]
    }
   ],
   "source": [
    "print(text)"
   ]
  },
  {
   "cell_type": "code",
   "execution_count": 4,
   "metadata": {},
   "outputs": [],
   "source": [
    "import staplechain.shims.openai as openai\n",
    "\n",
    "response = await openai.ChatCompletion.acreate(messages=[{\"role\": \"system\", \"content\": \"hi\"}], model=\"gpt-3.5-turbo-0301\", max_tokens=10)"
   ]
  },
  {
   "cell_type": "code",
   "execution_count": 8,
   "metadata": {},
   "outputs": [
    {
     "name": "stdout",
     "output_type": "stream",
     "text": [
      "Hello! How can I ﻿⁠‍‌⁠‌‍﻿‍‌‌‌‌‌⁠‍‌﻿⁠‌⁠﻿‌‌‌﻿‌﻿﻿‌﻿‍‍‌⁠⁠﻿﻿‍﻿⁠⁠‍‍⁠‍⁠⁠﻿‌‌‍⁠⁠‌‍‍⁠﻿﻿⁠﻿‍‍﻿‍‍﻿⁠‌⁠‌﻿⁠‍‍‍‌﻿‌﻿⁠﻿‍﻿‍‍⁠‍⁠‍﻿‌﻿⁠‍⁠⁠‍﻿‍⁠‍﻿‍⁠⁠‍﻿‌‌‍⁠‌‌⁠‌﻿‍‌‍﻿‍﻿⁠﻿‍‍‌‍‍‍‌‌‍⁠‌‌‍‍﻿‍﻿﻿‌‌⁠‍‍⁠‌‌‍﻿‍⁠‌‌‌‌‍‌﻿⁠‌﻿‍﻿‍﻿⁠‌‍‌‌﻿‌‌‌﻿‌‌﻿﻿﻿﻿⁠﻿﻿﻿‍‌⁠⁠‍‍‌‌‍﻿⁠‍‍‍‍﻿⁠‌‍⁠﻿﻿‌⁠﻿⁠‌﻿﻿‌‍﻿‌⁠⁠‌‌‌‌‌⁠⁠‌‍⁠‌‌‌﻿⁠‌‌﻿﻿‍‍﻿‍﻿⁠‍⁠⁠‌‌⁠‌⁠‌‍﻿﻿‌‍‍﻿﻿⁠⁠‌‍‍‌﻿⁠⁠⁠‌﻿‍﻿⁠﻿‌⁠⁠﻿⁠﻿⁠⁠‍﻿‍‍‌﻿⁠‌⁠﻿‍﻿‍‍‌‌‍‍⁠‌‌‌‍‍⁠⁠‌⁠‍‌⁠‍⁠﻿⁠⁠﻿⁠‌‍‍‌﻿‍‍‌‌﻿﻿‍⁠‍⁠⁠‌﻿⁠⁠‌﻿‍⁠‍‌‌‌﻿‍‌⁠⁠‍‍‍‍⁠﻿‌⁠‌‌⁠‌‍⁠﻿⁠‌‍‌⁠‌‌⁠⁠﻿‌‌‍‍‌‍‍‌‍⁠‍‌‌‍﻿⁠⁠﻿‌⁠‌‌‌‌‌﻿﻿‍⁠‍﻿‍‌⁠‍‌‌‍‍⁠﻿‍⁠﻿‌‌‌⁠‍⁠‌⁠‌﻿‌‍‌‌﻿﻿‍‌‍⁠‍⁠‍‍‍‌‍‌‍‍‌﻿⁠‌‍‌‍﻿﻿‍‌‍﻿‍‌‌⁠‍‌﻿‌﻿‍﻿⁠‌‍‍‌⁠‍‌﻿‍﻿⁠‍‍‍﻿⁠﻿‌﻿⁠‌‌﻿‌‍﻿‍⁠‍﻿‌⁠⁠⁠﻿‍⁠‌﻿﻿⁠﻿﻿﻿‌﻿﻿﻿⁠‍﻿﻿⁠‍⁠﻿‌⁠⁠﻿‌⁠﻿﻿‌‌‍‍﻿⁠‍‌﻿‍﻿‍﻿‌﻿‍‌﻿﻿‍‍‍﻿‍‌﻿﻿‍‍﻿﻿﻿⁠⁠﻿‍﻿⁠﻿‍⁠‌﻿‍﻿⁠﻿﻿⁠‌⁠‍﻿﻿‍⁠⁠﻿‍‍⁠﻿‌﻿﻿﻿‌‍﻿﻿⁠‍‌‍‌⁠‌﻿‍‌⁠‍⁠‍‌﻿⁠‌‌‌⁠‌‌‌⁠‌‍⁠‌‍‌‌‍﻿⁠‌‍⁠‌‌‌‍⁠﻿‌﻿﻿‍‍‍‌‍‍‍‍﻿‌‌‍﻿‍‍‍‍‍﻿‌﻿‍‍‍‍‌‍⁠﻿‌﻿‌⁠‍‍‍‌‌‍‌‌⁠‌‍⁠⁠﻿﻿﻿‌‌‌⁠﻿‌‌‍‌⁠‌‌‍‍⁠﻿‍⁠‌‍‍﻿﻿﻿⁠﻿⁠‍‍‍⁠‌‌‍﻿⁠﻿﻿﻿‍‌‍⁠⁠‌⁠⁠﻿﻿‌‌‍⁠⁠⁠﻿﻿﻿‌⁠⁠⁠﻿‍⁠‌‍﻿‍﻿‍‌⁠﻿‍‌‌‌﻿﻿﻿‌‍‍﻿⁠⁠﻿‍‍⁠﻿‌‍⁠﻿‍‌⁠﻿‌﻿⁠﻿﻿‌⁠‍⁠‌﻿⁠‍⁠⁠⁠⁠⁠‍‍‌‍﻿⁠⁠⁠﻿⁠‌‌﻿﻿﻿‍﻿⁠﻿‍‍‍‍‍⁠⁠‌‌﻿‍﻿﻿⁠﻿⁠﻿﻿﻿‌‍﻿﻿‍‌⁠﻿⁠⁠‌﻿‍‌‌‍﻿‍⁠‌‌‌‍‍⁠﻿‌⁠⁠‌﻿⁠⁠‌﻿﻿‍‌‌‍‌﻿﻿‌﻿﻿‌⁠⁠‍⁠⁠‍⁠﻿⁠﻿﻿‍⁠‌‍‌‍‌‍‌‌‍﻿‌‍‍﻿⁠‌⁠﻿﻿‍﻿‍⁠﻿‍⁠‍﻿﻿﻿‍‌‍﻿‌﻿⁠﻿﻿﻿⁠⁠‌﻿‌‍⁠‍⁠﻿‌﻿‍‍‍‌‍‍‌‌‌‍⁠‌﻿‌‍⁠‍⁠‌⁠﻿‌‍⁠⁠‌⁠﻿‌‍⁠﻿﻿‌﻿‌‌‍‍‍‍‍‌﻿‍‍‌‍‌﻿‌﻿⁠﻿‍﻿‌‍‌⁠‌‌‍‍‌⁠‍﻿﻿⁠‍‍‌﻿‌‌‍⁠‍﻿‌⁠﻿‌⁠‍‌‌﻿‌⁠⁠‌‌‌﻿⁠‍‍⁠⁠‌‌﻿⁠‍‍⁠‍‌⁠‌‍‍‌‍‍﻿‌‌⁠⁠‍‌﻿‌‍‍‍‌‌‌﻿‌‍‌‍‌‌⁠‌⁠‍‍﻿⁠⁠‍﻿‌⁠‍⁠⁠‍﻿‌﻿‍﻿﻿⁠‌⁠⁠‍⁠﻿‌⁠⁠‍⁠‍⁠‌‍⁠⁠⁠⁠‍⁠‍‌‍⁠﻿‌﻿⁠‍⁠﻿﻿‌‍⁠‌⁠﻿‌‌‍‍⁠‌‌‌‍‌‌⁠⁠⁠‍⁠﻿﻿⁠﻿‍‌⁠‍‍‍﻿﻿﻿‍⁠‌﻿‍﻿﻿‍‍﻿‍⁠⁠⁠‌⁠‍‌‌﻿⁠﻿﻿⁠﻿⁠‌⁠⁠‍﻿﻿⁠⁠⁠⁠‌⁠﻿‍⁠‌‌⁠﻿﻿‌‌﻿‌‍﻿⁠‍﻿‍﻿‌﻿‌﻿‌‍﻿‍﻿﻿﻿﻿﻿‌﻿⁠﻿‍‌‌‌assist you today?\n"
     ]
    },
    {
     "data": {
      "text/plain": [
       "StapleChain(version='1', hash='4ff7a9d3d17507261730c7c204af1352673009d72a19ea2c35a9bee133bfb9b7', chain=[Staple(id='stpl-PHNMCDB457MDKDLVNENU6SUHFM', date=datetime.datetime(2023, 4, 30, 16, 21, 48, 783756), provider_id='stapler/openai.com/chatcmpl-7BAeShUEQGYrz8h3xI9NKffelPFQK', role='generation', deps=[], params={'prompt_hash': 'e83a235d3ec1ec9d08f7b2d95aafe962ad57e05106ffe6e0cb4042cf05b03e44', 'model': 'gpt-3.5-turbo-0301', 'max_tokens': 10}, output=None, sig=None)])"
      ]
     },
     "execution_count": 8,
     "metadata": {},
     "output_type": "execute_result"
    }
   ],
   "source": [
    "from staplechain.steganography import add_staple, detect_staple_chains\n",
    "\n",
    "print(response.choices[0].message.content)\n",
    "sc = list(detect_staple_chains(response.choices[0].message.content))\n",
    "sc[0]"
   ]
  },
  {
   "cell_type": "code",
   "execution_count": 51,
   "metadata": {},
   "outputs": [
    {
     "data": {
      "text/plain": [
       "StapleChain(version='1', hash='94c6062e95e45055329e32a7f2941350001ff6182f2462a1ea99fbc9ad2f7728', chain=[Staple(id='stpl-65JDX5KZQN7J3YVGM7N6FN43W4', date=datetime.datetime(2023, 4, 30, 16, 7, 32, 518491), provider_id='stapler/openai.com/cmpl-7BAQdWcS6Cn3o7Xgnt0Jj4jXHImk5', role='generation', deps=[], params={'prompt_hash': 'b39c14c8da3b23811f6415b7e0b33526d7e07a46f2cf0484179435767e4a8804', 'model': 'text-davinci-003', 'max_tokens': 10}, output=None, sig=None)])"
      ]
     },
     "execution_count": 51,
     "metadata": {},
     "output_type": "execute_result"
    }
   ],
   "source": [
    "sc[0]"
   ]
  },
  {
   "attachments": {},
   "cell_type": "markdown",
   "metadata": {},
   "source": [
    "# Bloom filter\n"
   ]
  },
  {
   "cell_type": "code",
   "execution_count": 34,
   "metadata": {},
   "outputs": [
    {
     "ename": "ImportError",
     "evalue": "cannot import name 'minhash' from 'lsh' (/Users/kevin/.local/share/virtualenvs/llm-stapling-cBck54US/lib/python3.11/site-packages/lsh/__init__.py)",
     "output_type": "error",
     "traceback": [
      "\u001b[0;31m---------------------------------------------------------------------------\u001b[0m",
      "\u001b[0;31mImportError\u001b[0m                               Traceback (most recent call last)",
      "Cell \u001b[0;32mIn[34], line 1\u001b[0m\n\u001b[0;32m----> 1\u001b[0m \u001b[39mfrom\u001b[39;00m \u001b[39mlsh\u001b[39;00m \u001b[39mimport\u001b[39;00m minhash\n\u001b[1;32m      3\u001b[0m \u001b[39mfor\u001b[39;00m _ \u001b[39min\u001b[39;00m \u001b[39mrange\u001b[39m(\u001b[39m5\u001b[39m):\n\u001b[1;32m      4\u001b[0m     hasher \u001b[39m=\u001b[39m minhash\u001b[39m.\u001b[39mMinHasher(seeds\u001b[39m=\u001b[39m\u001b[39m100\u001b[39m, char_ngram\u001b[39m=\u001b[39m\u001b[39m5\u001b[39m)\n",
      "\u001b[0;31mImportError\u001b[0m: cannot import name 'minhash' from 'lsh' (/Users/kevin/.local/share/virtualenvs/llm-stapling-cBck54US/lib/python3.11/site-packages/lsh/__init__.py)"
     ]
    }
   ],
   "source": [
    "from lsh import minH\n",
    "\n",
    "for _ in range(5):\n",
    "    hasher = minhash.MinHasher(seeds=100, char_ngram=5)\n",
    "    fingerprint0 = hasher.fingerprint('Lorem Ipsum dolor sit amet'.encode('utf8'))\n",
    "    fingerprint1 = hasher.fingerprint('Lorem Ipsum dolor sit amet is how dummy text starts'.encode('utf8'))\n",
    "    print(sum(fingerprint0[i] in fingerprint1 for i in range(hasher.num_seeds)) / hasher.num_seeds)"
   ]
  }
 ],
 "metadata": {
  "kernelspec": {
   "display_name": "llm-stapling-cBck54US",
   "language": "python",
   "name": "python3"
  },
  "language_info": {
   "codemirror_mode": {
    "name": "ipython",
    "version": 3
   },
   "file_extension": ".py",
   "mimetype": "text/x-python",
   "name": "python",
   "nbconvert_exporter": "python",
   "pygments_lexer": "ipython3",
   "version": "3.11.3"
  },
  "orig_nbformat": 4
 },
 "nbformat": 4,
 "nbformat_minor": 2
}
