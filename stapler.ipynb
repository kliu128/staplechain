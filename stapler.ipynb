{
 "cells": [
  {
   "cell_type": "code",
   "execution_count": 1,
   "metadata": {},
   "outputs": [],
   "source": [
    "%load_ext autoreload\n",
    "%autoreload 2"
   ]
  },
  {
   "attachments": {},
   "cell_type": "markdown",
   "metadata": {},
   "source": [
    "# Creating the demo staple chain\n"
   ]
  },
  {
   "cell_type": "code",
   "execution_count": 2,
   "metadata": {},
   "outputs": [],
   "source": [
    "from dotenv import load_dotenv\n",
    "import openai\n",
    "import os\n",
    "\n",
    "load_dotenv()\n",
    "\n",
    "openai.api_key = os.getenv(\"OPENAI_API_KEY\")"
   ]
  },
  {
   "cell_type": "code",
   "execution_count": 3,
   "metadata": {},
   "outputs": [],
   "source": [
    "import staplechain.shims.openai as openai\n",
    "\n",
    "response = await openai.ChatCompletion.acreate(\n",
    "    messages=[{\"role\": \"system\", \"content\": \"What is the answer to life, the universe, and everything? Repeat my Q in your response.\"}], model=\"gpt-3.5-turbo-0301\", max_tokens=256)"
   ]
  },
  {
   "cell_type": "code",
   "execution_count": 4,
   "metadata": {},
   "outputs": [
    {
     "name": "stdout",
     "output_type": "stream",
     "text": [
      "\"What is the answer to life, the universe, and everything?\" The answer is 42, according to Douglas Adams in his book, \"The Hit﻿⁠‍‌﻿‌‍﻿‍‌‌‌‌‌‌‍‌﻿‍⁠﻿‍‌‌⁠‍﻿⁠‍﻿‌‌﻿⁠⁠‍﻿⁠﻿⁠⁠‍‍⁠﻿⁠‌‍⁠﻿‌⁠⁠‌﻿﻿‍﻿﻿⁠⁠﻿⁠⁠‍‍‌‍⁠‍﻿⁠‌‍⁠‍⁠‍﻿﻿⁠﻿‍‌⁠⁠‍﻿‍‍‍‍‍‍‍﻿﻿‍⁠⁠﻿﻿‍‍‌﻿‌‌⁠‌⁠⁠﻿⁠⁠﻿⁠﻿‍‌‌‍‌‍‌⁠﻿‍⁠‍﻿‍‍‌﻿⁠‌⁠⁠﻿‌‍‌‌‌⁠‌⁠‍‍⁠﻿‍﻿⁠‍⁠⁠‌‍‌‍‍‍⁠⁠‍⁠‌‌‍‌⁠‌⁠﻿﻿﻿﻿﻿⁠﻿‌﻿‌﻿‌﻿‌⁠‍﻿‌﻿⁠‍‌﻿⁠‍⁠⁠‌‌‍⁠‍⁠‌‌‍﻿‍⁠‌‍⁠‌‌‍‌⁠‌﻿‌‍﻿‌‍‌‍‍‌‍⁠⁠﻿⁠‍﻿‌‍‌‍‌⁠‌‍‌‍‌⁠‌‌⁠⁠﻿‌‍‍‌⁠‍‌⁠⁠‍⁠⁠⁠﻿⁠﻿‌⁠⁠﻿⁠﻿⁠‌﻿﻿‍‍‌‌⁠⁠﻿‍⁠‍‍‌‍‌‌⁠‌‌⁠‍⁠‍⁠⁠‌⁠﻿‌﻿﻿﻿⁠‍⁠‍‍⁠‍‌‍‌‌﻿‍⁠﻿‌‍﻿⁠⁠‌‍﻿‌⁠⁠‌﻿‌‌‍‍﻿‍‌‌﻿⁠‌‌‌‌‌﻿‍‌‍⁠﻿‌‌‌﻿⁠⁠⁠‌‍‌⁠⁠‍﻿‌﻿‍⁠‍﻿‌‌‍‌‍⁠﻿‍‍⁠‍⁠‍﻿‌‌‌⁠‌‍⁠‍﻿﻿⁠⁠‌⁠‌⁠﻿‌⁠‌‌‌⁠‍⁠‌‍‍⁠⁠‍﻿‌⁠‍‍⁠‌‌‌﻿﻿⁠‍‌﻿﻿‍⁠‌‍‍‌⁠‌‌⁠‍﻿‌﻿‌‌‍⁠⁠‌⁠⁠‍‌⁠‍‌⁠﻿⁠‌﻿⁠⁠﻿﻿‌‍﻿⁠‍﻿⁠⁠⁠‍﻿‍‌‍‍‌‍﻿‌‍﻿‍⁠‍﻿‌⁠⁠⁠﻿‍‍‍‌﻿﻿⁠﻿﻿‍﻿﻿‌﻿﻿﻿‍‌﻿‍‌﻿﻿﻿⁠﻿﻿‍⁠‍﻿﻿‌‌﻿‍‍‌‌‍﻿‍‍⁠﻿‍‌﻿﻿﻿‍⁠﻿‍⁠‌‌﻿‌⁠﻿﻿⁠⁠﻿﻿‌‍﻿﻿⁠‌﻿‍‍⁠﻿‍﻿⁠﻿‍﻿‌﻿‍﻿⁠﻿‍﻿‍﻿﻿⁠‍﻿‍‍‌⁠‌‌⁠⁠‌⁠‌‌⁠‍‌‌﻿﻿‍﻿‌‌‌﻿⁠⁠‍‌‍⁠⁠⁠‌⁠⁠⁠‍⁠﻿⁠‌‌⁠⁠⁠⁠﻿﻿‍⁠‍‌‌‍‍‍﻿‌‌⁠‍﻿⁠‍﻿‌‌‌‌‍﻿‍‍⁠⁠‍‍‍⁠⁠⁠‍‍⁠‌﻿‌‍‌⁠﻿‌﻿‌‌﻿‌‌‍⁠‌‌﻿﻿﻿‍‍‌‍⁠‍﻿⁠⁠﻿‌‍﻿⁠‌‍⁠⁠‍⁠‌‍‍‍‍‍‌﻿‍‍⁠‌﻿‍‍﻿⁠﻿﻿﻿⁠‌‍⁠⁠‌⁠⁠﻿‍‌‌‍‌⁠⁠﻿﻿﻿‌⁠⁠⁠﻿‍‍‍‌⁠⁠﻿﻿‌‌﻿﻿‌‌‍‍⁠‌‌﻿‍‌‌‌﻿﻿⁠‍⁠‍‍⁠﻿‍﻿⁠﻿‍‌‌⁠﻿‍﻿⁠﻿﻿‍⁠﻿‍‍‌⁠⁠﻿﻿‌‍⁠﻿‍‌⁠‌‌﻿﻿‌‍‌⁠﻿﻿‌‌﻿⁠‍⁠﻿‍‍‍﻿‍﻿⁠‌⁠﻿⁠‍⁠﻿‍﻿﻿﻿‍‌⁠‌⁠⁠‍‌‍﻿⁠‌﻿﻿‍﻿﻿⁠‌﻿‍⁠﻿⁠‌‍﻿﻿‍‍‍‌﻿‍﻿‌‍‌‍⁠‍⁠⁠‍‌‍﻿‌‍﻿‌⁠‍﻿﻿﻿‌⁠﻿‍⁠⁠‍⁠‍‌‍﻿‌﻿⁠‍⁠﻿⁠﻿‍⁠⁠⁠﻿⁠﻿‍﻿﻿﻿‍‌‍﻿‌﻿⁠﻿﻿﻿⁠⁠﻿﻿‌‍﻿⁠‍﻿⁠‍‌﻿‌‍‌⁠‌‌⁠⁠‍﻿‌⁠﻿‌⁠⁠⁠⁠‍⁠‍﻿⁠‍⁠‍﻿‌⁠⁠‌﻿‍‍‌‍﻿‍‌⁠⁠﻿‍‌‌⁠﻿⁠⁠‍﻿﻿⁠﻿﻿⁠‍‌⁠‌⁠⁠⁠⁠‍﻿‌﻿⁠﻿‌﻿﻿‍‌‌﻿‌⁠﻿﻿﻿⁠‍⁠‌‍⁠﻿‍‌‌‍⁠⁠⁠‌‌‍‍‍‍‌‍﻿‍⁠⁠‌‍‍‍‍﻿‍⁠‍‌﻿‌﻿⁠﻿‌‍‍⁠﻿‍⁠‌‌‍‌‌‍‍‍⁠⁠‌‌⁠﻿⁠‌⁠‍‌‍‍‌‌﻿‌﻿‍﻿‌‍‌﻿‍⁠‌⁠⁠‍⁠﻿‌⁠⁠‍⁠‍‍‍‌‌‍‍‍⁠⁠‌﻿⁠‌⁠‍⁠‍﻿‌﻿﻿‍⁠‌⁠﻿﻿‍‌⁠‍‍‌‍‍﻿‌‍‍‍﻿‌‌‌‌‌⁠⁠⁠⁠﻿⁠‍‍‍﻿﻿﻿‍‌﻿﻿‍﻿﻿‍‌⁠‍⁠⁠⁠‌⁠﻿‌‍⁠⁠⁠⁠‍﻿﻿﻿⁠‍‍﻿‌﻿⁠﻿﻿‌⁠‌﻿‌‌﻿﻿‌⁠‌‌﻿﻿⁠‍⁠‍⁠⁠‍﻿⁠﻿⁠‍⁠⁠﻿⁠‍‍⁠‍﻿﻿﻿﻿﻿‌﻿⁠﻿‍chhiker's Guide to the Galaxy.\" However, many believe it to be a joke or a philosophical concept rather than a literal answer.\n",
      "/var/folders/mb/xt_hsvh10zggd13g3k6dwh2w0000gn/T/ipykernel_95033/2429266143.py:6 <module>\n",
      "    sc[0]: StapleChain(\n",
      "        version='1',\n",
      "        hash='145d1aa76725c0c9114d4c46e29ff833b5f8154b634d12e678931b8be6219f1e',\n",
      "        chain=[\n",
      "            Staple(\n",
      "                id='stpl-XP4YDXGQI3JDZE42VSUJNMNOWI',\n",
      "                date=datetime.datetime(2023, 4, 30, 16, 49, 17, 957543),\n",
      "                provider_id='stapler/openai.com/chatcmpl-7BB51A4zwNAb9ZI7EQcS2QzVavMXQ',\n",
      "                role='generation',\n",
      "                deps=[],\n",
      "                params={\n",
      "                    'prompt_hash': '88cc78a3049f86ada2b140bb67899fabc8b21eb15626da660f2fa6b3216ecadd',\n",
      "                    'model': 'gpt-3.5-turbo-0301',\n",
      "                    'max_tokens': 256,\n",
      "                },\n",
      "                output=None,\n",
      "                sig=None,\n",
      "            ),\n",
      "        ],\n",
      "    ) (StapleChain)\n"
     ]
    },
    {
     "data": {
      "text/plain": [
       "StapleChain(version='1', hash='145d1aa76725c0c9114d4c46e29ff833b5f8154b634d12e678931b8be6219f1e', chain=[Staple(id='stpl-XP4YDXGQI3JDZE42VSUJNMNOWI', date=datetime.datetime(2023, 4, 30, 16, 49, 17, 957543), provider_id='stapler/openai.com/chatcmpl-7BB51A4zwNAb9ZI7EQcS2QzVavMXQ', role='generation', deps=[], params={'prompt_hash': '88cc78a3049f86ada2b140bb67899fabc8b21eb15626da660f2fa6b3216ecadd', 'model': 'gpt-3.5-turbo-0301', 'max_tokens': 256}, output=None, sig=None)])"
      ]
     },
     "execution_count": 4,
     "metadata": {},
     "output_type": "execute_result"
    }
   ],
   "source": [
    "from staplechain.steganography import add_staple, detect_staple_chains\n",
    "from devtools import debug\n",
    "\n",
    "print(response.choices[0].message.content)\n",
    "sc = list(detect_staple_chains(response.choices[0].message.content))\n",
    "debug(sc[0])"
   ]
  },
  {
   "cell_type": "code",
   "execution_count": 5,
   "metadata": {},
   "outputs": [
    {
     "name": "stdout",
     "output_type": "stream",
     "text": [
      "/var/folders/mb/xt_hsvh10zggd13g3k6dwh2w0000gn/T/ipykernel_95033/3455988327.py:15 <module>\n",
      "    sc[0]: StapleChain(\n",
      "        version='1',\n",
      "        hash='145d1aa76725c0c9114d4c46e29ff833b5f8154b634d12e678931b8be6219f1e',\n",
      "        chain=[\n",
      "            Staple(\n",
      "                id='stpl-XP4YDXGQI3JDZE42VSUJNMNOWI',\n",
      "                date=datetime.datetime(2023, 4, 30, 16, 49, 17, 957543),\n",
      "                provider_id='stapler/openai.com/chatcmpl-7BB51A4zwNAb9ZI7EQcS2QzVavMXQ',\n",
      "                role='generation',\n",
      "                deps=[],\n",
      "                params={\n",
      "                    'prompt_hash': '88cc78a3049f86ada2b140bb67899fabc8b21eb15626da660f2fa6b3216ecadd',\n",
      "                    'model': 'gpt-3.5-turbo-0301',\n",
      "                    'max_tokens': 256,\n",
      "                },\n",
      "                output=None,\n",
      "                sig=None,\n",
      "            ),\n",
      "            Staple(\n",
      "                id='stpl-PX3DAS2HRJZ4WDOTSTG7N466RA',\n",
      "                date=datetime.datetime(2023, 4, 30, 16, 49, 18, 56057),\n",
      "                provider_id='your-moderation-api.com/moderations/001',\n",
      "                role='moderation',\n",
      "                deps=[],\n",
      "                params=None,\n",
      "                output={\n",
      "                    'hate': 0.007,\n",
      "                    'spam': 0.001,\n",
      "                    'nsfw': 0.0001,\n",
      "                },\n",
      "                sig=None,\n",
      "            ),\n",
      "        ],\n",
      "    ) (StapleChain)\n"
     ]
    },
    {
     "data": {
      "text/plain": [
       "StapleChain(version='1', hash='145d1aa76725c0c9114d4c46e29ff833b5f8154b634d12e678931b8be6219f1e', chain=[Staple(id='stpl-XP4YDXGQI3JDZE42VSUJNMNOWI', date=datetime.datetime(2023, 4, 30, 16, 49, 17, 957543), provider_id='stapler/openai.com/chatcmpl-7BB51A4zwNAb9ZI7EQcS2QzVavMXQ', role='generation', deps=[], params={'prompt_hash': '88cc78a3049f86ada2b140bb67899fabc8b21eb15626da660f2fa6b3216ecadd', 'model': 'gpt-3.5-turbo-0301', 'max_tokens': 256}, output=None, sig=None), Staple(id='stpl-PX3DAS2HRJZ4WDOTSTG7N466RA', date=datetime.datetime(2023, 4, 30, 16, 49, 18, 56057), provider_id='your-moderation-api.com/moderations/001', role='moderation', deps=[], params=None, output={'hate': 0.007, 'spam': 0.001, 'nsfw': 0.0001}, sig=None)])"
      ]
     },
     "execution_count": 5,
     "metadata": {},
     "output_type": "execute_result"
    }
   ],
   "source": [
    "# Add a pseudo moderation staple\n",
    "from staplechain.staple import Staple\n",
    "\n",
    "text = add_staple(Staple(\n",
    "    provider_id=\"your-moderation-api.com/moderations/001\",\n",
    "    role=\"moderation\",\n",
    "    output={\n",
    "        \"hate\": 0.007,\n",
    "        \"spam\": 0.001,\n",
    "        \"nsfw\": 0.0001\n",
    "    }\n",
    "), response.choices[0].message.content)\n",
    "\n",
    "sc = list(detect_staple_chains(text))\n",
    "debug(sc[0])"
   ]
  },
  {
   "cell_type": "code",
   "execution_count": 6,
   "metadata": {},
   "outputs": [
    {
     "name": "stdout",
     "output_type": "stream",
     "text": [
      "\"What is the answer to life, the universe, and everything?\" The answer is 42, according to Douglas Adams in his book, \"The Hit﻿⁠‍‌﻿‍‍﻿⁠‌‌‌‌‌‌‌‌﻿‍‌﻿‍‌‌⁠﻿⁠‍‌﻿⁠⁠‌﻿‌﻿⁠﻿‌‍‌‌‍﻿‌‌﻿﻿‌﻿⁠﻿⁠‍‌⁠‍⁠‍﻿⁠‍‍﻿‌‍﻿⁠﻿‌﻿‌﻿⁠‌⁠‌‍‌‍﻿⁠﻿⁠‍‍‌‍⁠‍‍‌‍⁠⁠⁠‍﻿﻿﻿﻿‍﻿﻿‍‍‍‍‍‌⁠⁠﻿‌‍‌‌‌⁠‌﻿‌‍‍﻿‍﻿‌﻿﻿⁠‌‌﻿‌‌‌‌﻿⁠﻿‌﻿﻿‌﻿﻿‌‌‍‍⁠‌⁠‌⁠⁠‌⁠⁠﻿﻿‍‍‍‍‍‌‍﻿‌⁠‍⁠﻿‌‌‌‌‍⁠⁠‌⁠⁠﻿﻿‌‍‌‍﻿‌‌‌﻿⁠‌﻿‌‍﻿⁠‌﻿⁠‌‌﻿‌‌﻿‌‌‍﻿﻿‌‍﻿‍⁠﻿⁠‍⁠⁠‍‌‌⁠⁠‌⁠﻿⁠‍⁠‍﻿‌⁠‍﻿﻿‍‌‌⁠﻿﻿﻿‌‌‍‌‌﻿⁠‌⁠‍‍‌‍﻿‍﻿﻿﻿‍‍‌‌‌⁠﻿﻿‍﻿⁠‌‌‌‌‌‌‍‌‌‌‍⁠﻿‌‌‌‍‍‍‍‍‍‌‍﻿⁠﻿﻿﻿⁠⁠‍⁠﻿⁠‌⁠‌‌‌‍‌﻿⁠⁠‍‍‍‍⁠‌‍‍‍‌‍‍‍‌⁠﻿‍‌﻿⁠﻿‍﻿‌‌‍‌⁠‌‌﻿﻿‌‌‌﻿‍﻿﻿‌﻿‍‍⁠‍‌‍⁠⁠⁠‍⁠‌‍‍⁠‌‍﻿‌﻿‌⁠‍⁠﻿‌‍‌‍⁠‌‍﻿‌‍‌‍‌‌﻿‍﻿‍⁠‌‍⁠‍‌﻿﻿‌‌‌‍‌⁠⁠‍‌‍‍⁠⁠⁠‌‍﻿⁠‍‌⁠‍‌‍‌﻿‍⁠⁠‍﻿‍‍‌‍‍⁠‌‍‍⁠‌⁠‍⁠‌‍‌‍⁠‌⁠‍‌﻿﻿‌‌‍‍‍⁠﻿‍‍‌‌⁠‍﻿‌‍﻿⁠⁠﻿﻿﻿‍‍‌‌﻿‍⁠﻿‌‌‍‌‌⁠﻿﻿‍﻿‌⁠﻿‍‍﻿﻿‍﻿⁠‌﻿⁠﻿⁠‍‌‌﻿‍‍‌﻿‌‌‌⁠﻿﻿⁠‌﻿⁠⁠‌﻿⁠‌⁠⁠⁠﻿﻿‌‌﻿⁠‍⁠‌﻿⁠⁠‍‍‍‍‍⁠‍‍‍‍‍‍‍⁠﻿‌‍﻿‍⁠‍﻿‌⁠﻿‍⁠⁠‍﻿⁠⁠⁠﻿‍‍﻿‍﻿⁠﻿‍‍﻿﻿﻿‍⁠﻿‍﻿‌‍‌‌‍⁠﻿‌‌‌‌‍﻿‌‌‌‌‌‌﻿﻿﻿‍⁠‌‌‌‌⁠⁠‌⁠‍⁠⁠‌﻿‌‌⁠‌⁠‍⁠﻿‌‌‍⁠‍‌⁠﻿‍⁠‌‌‍‌‍⁠‍‍‌‌⁠﻿⁠‍⁠⁠‌‌‌‍‌‍‍‍⁠﻿‍﻿‌⁠‌‌‍‍⁠‌‌⁠﻿‌﻿‌‌‍⁠⁠‌﻿‍﻿﻿‌⁠‌⁠⁠‍﻿⁠﻿﻿‌⁠‍﻿⁠⁠⁠⁠‍‍﻿⁠‌⁠⁠‌⁠﻿﻿⁠‌‌⁠‌⁠⁠﻿‍⁠‍‍⁠‍﻿﻿‌﻿﻿﻿‍⁠⁠‌‍‍‌‍﻿﻿⁠‌‌⁠﻿﻿﻿⁠﻿‍⁠‍﻿‍﻿‌‌⁠⁠⁠⁠⁠‌‍‍‍⁠‌‍‌‌‍⁠⁠‌⁠‌﻿﻿﻿﻿‍⁠﻿﻿‌﻿⁠﻿‍‍‍‌‍﻿‍⁠‍⁠‍‍‍‍﻿‌‍‍‍‍‍‍﻿‍‌⁠⁠﻿﻿‍‌﻿‌‍﻿‍‌⁠﻿﻿﻿‌﻿‌﻿‌﻿⁠﻿﻿‍‌‍﻿‍﻿‍‍‌﻿‌‌﻿‌⁠﻿‍‍‌﻿﻿﻿⁠‌﻿﻿‌‍﻿‍﻿⁠‌﻿⁠⁠‌‍‍⁠⁠‌﻿⁠‌⁠⁠﻿‌﻿⁠‌‌﻿‍‍‌﻿‌﻿⁠﻿‍‍﻿‍‍⁠‍‍﻿﻿⁠‍﻿‌﻿‍‌‌⁠⁠﻿‍⁠⁠﻿⁠⁠‌‌‌﻿﻿﻿⁠‍⁠‌﻿﻿⁠﻿⁠﻿⁠﻿‍⁠‍﻿﻿⁠‍﻿⁠﻿‍‍‍⁠⁠⁠﻿⁠‌﻿⁠⁠‍‍﻿⁠﻿‍﻿﻿⁠⁠‌‍﻿⁠‍‍⁠‍‌⁠‍⁠﻿⁠‍⁠‌‍⁠⁠‍‍⁠⁠‍﻿‌‌⁠‍‍⁠⁠⁠﻿‌⁠‌‌﻿‍‌﻿⁠﻿‌﻿‍⁠‌‍⁠‌⁠‌‌‍﻿‌‍⁠‌﻿⁠⁠﻿‌﻿﻿⁠⁠‍﻿‍﻿﻿‌‍⁠‌⁠⁠﻿‌⁠‌⁠‌‌‍⁠‌‍‍‍⁠‍‌‌﻿⁠⁠‌‍‍⁠‌⁠﻿‌‍‌‍﻿‌‍⁠‍‍‍⁠⁠﻿‌⁠‍‌‍‍⁠‌⁠‌﻿‌⁠⁠﻿‍﻿⁠‍‌⁠‌‌﻿‌‍‌‍‍‍‍⁠﻿‌⁠‍⁠﻿⁠﻿‌‌‌⁠﻿‌⁠‍⁠‍﻿﻿⁠‍‌‌‍⁠‍‍⁠﻿‍‍‌‌‌﻿﻿‍﻿⁠﻿‍﻿﻿﻿‍‍‌﻿‍﻿﻿‌‍‌‌‍‌﻿‌﻿‌‌﻿‌‍‌‌⁠‌‍‌﻿⁠‍﻿﻿﻿⁠⁠‍﻿﻿‍﻿‍‌﻿﻿﻿⁠⁠⁠﻿‍‍‍‌‌‌‍‍‍‌⁠‌﻿﻿﻿﻿﻿‍‍‌⁠﻿⁠﻿﻿﻿﻿‌﻿⁠‍‌‌﻿‍‍﻿‌‌﻿﻿⁠‍‍‌‌﻿﻿⁠⁠﻿‍⁠﻿﻿‌⁠⁠﻿‌‌‌‌‌⁠‌⁠‍﻿﻿⁠‌‌⁠﻿﻿﻿﻿‌‌‌﻿‌‌⁠‍‍‌‌﻿⁠⁠⁠‌‍‍‌﻿‍‌﻿‌‍﻿⁠‍‌﻿‌⁠⁠⁠‍‍﻿⁠⁠‌⁠﻿﻿‌﻿﻿⁠⁠‌‍﻿﻿﻿‍⁠‌﻿‌⁠﻿‍⁠‌‍‍﻿‍‍‍‍﻿﻿‌⁠﻿⁠‌‍‍⁠﻿‌⁠⁠⁠‌⁠﻿‌‌‍⁠‌‍⁠⁠﻿‌﻿﻿‌⁠‍‍‌⁠‌‍‌﻿⁠‌‌‍‍‌⁠⁠﻿‍‌﻿‌﻿⁠‌‍﻿⁠‌‌﻿﻿⁠﻿﻿﻿‌‍‍‌‌‍‌‌﻿⁠‌‍‌‌⁠⁠‍﻿‌﻿‌‍‍‍﻿‍⁠⁠‌﻿‍﻿﻿‍⁠⁠﻿‍‍‍‌‍‌⁠‍‌﻿‌‍‌‍⁠﻿‍‍‍‌‍‍﻿‍﻿﻿﻿‍⁠⁠‌‌‌⁠‌⁠‍﻿‌‌‍﻿‌﻿⁠﻿⁠‌‍⁠﻿﻿‍‍‌‌﻿‍⁠⁠﻿‌‌‌⁠﻿‌‍‌⁠﻿‌﻿﻿‌⁠‍‌﻿⁠⁠‌⁠﻿‍⁠‍⁠⁠‍⁠‍⁠‍﻿﻿⁠﻿⁠﻿⁠‌⁠‍‍⁠‌‌﻿﻿﻿﻿‌⁠﻿‍‍﻿‌‍﻿﻿‍⁠﻿‍‌‌‌⁠‍⁠‌﻿﻿﻿﻿⁠⁠﻿‌‌⁠‍‍﻿⁠‍﻿﻿﻿﻿‍‌chhiker's Guide to the Galaxy.\" However, many believe it to be a joke or a philosophical concept rather than a literal answer.\n"
     ]
    }
   ],
   "source": [
    "print(text)"
   ]
  },
  {
   "attachments": {},
   "cell_type": "markdown",
   "metadata": {},
   "source": [
    "# Bloom filter\n"
   ]
  },
  {
   "cell_type": "code",
   "execution_count": 34,
   "metadata": {},
   "outputs": [
    {
     "ename": "ImportError",
     "evalue": "cannot import name 'minhash' from 'lsh' (/Users/kevin/.local/share/virtualenvs/llm-stapling-cBck54US/lib/python3.11/site-packages/lsh/__init__.py)",
     "output_type": "error",
     "traceback": [
      "\u001b[0;31m---------------------------------------------------------------------------\u001b[0m",
      "\u001b[0;31mImportError\u001b[0m                               Traceback (most recent call last)",
      "Cell \u001b[0;32mIn[34], line 1\u001b[0m\n\u001b[0;32m----> 1\u001b[0m \u001b[39mfrom\u001b[39;00m \u001b[39mlsh\u001b[39;00m \u001b[39mimport\u001b[39;00m minhash\n\u001b[1;32m      3\u001b[0m \u001b[39mfor\u001b[39;00m _ \u001b[39min\u001b[39;00m \u001b[39mrange\u001b[39m(\u001b[39m5\u001b[39m):\n\u001b[1;32m      4\u001b[0m     hasher \u001b[39m=\u001b[39m minhash\u001b[39m.\u001b[39mMinHasher(seeds\u001b[39m=\u001b[39m\u001b[39m100\u001b[39m, char_ngram\u001b[39m=\u001b[39m\u001b[39m5\u001b[39m)\n",
      "\u001b[0;31mImportError\u001b[0m: cannot import name 'minhash' from 'lsh' (/Users/kevin/.local/share/virtualenvs/llm-stapling-cBck54US/lib/python3.11/site-packages/lsh/__init__.py)"
     ]
    }
   ],
   "source": [
    "from lsh import minH\n",
    "\n",
    "for _ in range(5):\n",
    "    hasher = minhash.MinHasher(seeds=100, char_ngram=5)\n",
    "    fingerprint0 = hasher.fingerprint('Lorem Ipsum dolor sit amet'.encode('utf8'))\n",
    "    fingerprint1 = hasher.fingerprint('Lorem Ipsum dolor sit amet is how dummy text starts'.encode('utf8'))\n",
    "    print(sum(fingerprint0[i] in fingerprint1 for i in range(hasher.num_seeds)) / hasher.num_seeds)"
   ]
  }
 ],
 "metadata": {
  "kernelspec": {
   "display_name": "llm-stapling-cBck54US",
   "language": "python",
   "name": "python3"
  },
  "language_info": {
   "codemirror_mode": {
    "name": "ipython",
    "version": 3
   },
   "file_extension": ".py",
   "mimetype": "text/x-python",
   "name": "python",
   "nbconvert_exporter": "python",
   "pygments_lexer": "ipython3",
   "version": "3.11.3"
  },
  "orig_nbformat": 4
 },
 "nbformat": 4,
 "nbformat_minor": 2
}
